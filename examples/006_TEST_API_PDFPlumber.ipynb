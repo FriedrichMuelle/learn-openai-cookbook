{
 "cells": [
  {
   "cell_type": "markdown",
   "id": "983ef639-fbf4-4912-b593-9cf08aeb11cd",
   "metadata": {},
   "source": [
    "# 006 TEST"
   ]
  },
  {
   "cell_type": "markdown",
   "id": "77409be1",
   "metadata": {},
   "source": [
    "# PDFPlumber"
   ]
  },
  {
   "cell_type": "code",
   "execution_count": null,
   "id": "e404e3be",
   "metadata": {},
   "outputs": [],
   "source": [
    "%pip install pdfplumber"
   ]
  },
  {
   "cell_type": "code",
   "execution_count": null,
   "id": "6c10acea",
   "metadata": {},
   "outputs": [],
   "source": [
    "import pdfplumber\n",
    "\n",
    "pdf = pdfplumber.open(\"./data/The_Old_Man_of_the_Sea.pdf\")"
   ]
  },
  {
   "cell_type": "code",
   "execution_count": null,
   "id": "2f517cac",
   "metadata": {},
   "outputs": [],
   "source": [
    "pdf.metadata"
   ]
  },
  {
   "cell_type": "code",
   "execution_count": null,
   "id": "c1fb7413",
   "metadata": {},
   "outputs": [],
   "source": [
    "pdf.pages"
   ]
  },
  {
   "cell_type": "code",
   "execution_count": null,
   "id": "ea82052f",
   "metadata": {},
   "outputs": [],
   "source": [
    "type(pdf.pages[0])"
   ]
  },
  {
   "cell_type": "code",
   "execution_count": null,
   "id": "cd763cf6",
   "metadata": {},
   "outputs": [],
   "source": [
    "pdf = pdfplumber.open(\"./data/test.pdf\")"
   ]
  },
  {
   "cell_type": "code",
   "execution_count": null,
   "id": "2308069a",
   "metadata": {},
   "outputs": [],
   "source": [
    "pages = pdf.pages\n",
    "print(pages)"
   ]
  },
  {
   "cell_type": "code",
   "execution_count": null,
   "id": "53a4fde6",
   "metadata": {},
   "outputs": [],
   "source": [
    "pages[0].page_number\n",
    "\n",
    "pages[1].page_number\n",
    "\n",
    "# pages[2].page_number # IndexError: list index out of range"
   ]
  },
  {
   "cell_type": "code",
   "execution_count": null,
   "id": "6ca8691d",
   "metadata": {},
   "outputs": [],
   "source": [
    "print(pages[0].width, pages[0].height)\n",
    "\n",
    "print(pages[1].width, pages[1].height)"
   ]
  },
  {
   "cell_type": "code",
   "execution_count": null,
   "id": "5c58c2e2",
   "metadata": {},
   "outputs": [],
   "source": [
    "pages[0].to_image()"
   ]
  },
  {
   "cell_type": "code",
   "execution_count": null,
   "id": "af2a128d",
   "metadata": {},
   "outputs": [],
   "source": [
    "pages[1].to_image()"
   ]
  },
  {
   "cell_type": "markdown",
   "id": "456fbddf",
   "metadata": {},
   "source": [
    "# ----------------------------------"
   ]
  },
  {
   "cell_type": "markdown",
   "id": "58ef4cd6",
   "metadata": {},
   "source": [
    "## test.pdf => PAGE 1"
   ]
  },
  {
   "cell_type": "code",
   "execution_count": null,
   "id": "7ff54bab",
   "metadata": {},
   "outputs": [],
   "source": [
    "p1_text = pages[0].extract_text() # layout = false\n",
    "\n",
    "print(p1_text)"
   ]
  },
  {
   "cell_type": "code",
   "execution_count": null,
   "id": "29b09f7a",
   "metadata": {},
   "outputs": [],
   "source": [
    "p1_text = pages[0].extract_text(layout=True) # layout = true\n",
    "\n",
    "print(p1_text)"
   ]
  },
  {
   "cell_type": "markdown",
   "id": "afbd2643",
   "metadata": {},
   "source": [
    "## test.pdf => PAGE 2"
   ]
  },
  {
   "cell_type": "code",
   "execution_count": null,
   "id": "bd2f50e3",
   "metadata": {},
   "outputs": [],
   "source": [
    "p1_text = pages[1].extract_text() # layout = false\n",
    "\n",
    "print(p1_text)"
   ]
  },
  {
   "cell_type": "code",
   "execution_count": null,
   "id": "bce0f57a",
   "metadata": {},
   "outputs": [],
   "source": [
    "p1_text = pages[1].extract_text(layout=True) # layout = true\n",
    "\n",
    "print(p1_text)"
   ]
  },
  {
   "cell_type": "markdown",
   "id": "165348cc",
   "metadata": {},
   "source": [
    "## TEST.PDF => PAGES[0] => TABLE"
   ]
  },
  {
   "cell_type": "code",
   "execution_count": null,
   "id": "f5b8892e",
   "metadata": {},
   "outputs": [],
   "source": [
    "p1_table = pages[0].extract_table()\n",
    "\n",
    "p1_table"
   ]
  },
  {
   "cell_type": "code",
   "execution_count": null,
   "id": "25b30df1",
   "metadata": {},
   "outputs": [],
   "source": [
    "tables = pages[0].extract_tables()\n",
    "\n",
    "len(tables)"
   ]
  },
  {
   "cell_type": "code",
   "execution_count": null,
   "id": "acee5b8d",
   "metadata": {},
   "outputs": [],
   "source": [
    "tables"
   ]
  },
  {
   "cell_type": "code",
   "execution_count": null,
   "id": "06fc20d8",
   "metadata": {},
   "outputs": [],
   "source": [
    "p1_debug_table = pages[0].debug_tablefinder()\n",
    "\n",
    "type(p1_debug_table)"
   ]
  },
  {
   "cell_type": "code",
   "execution_count": null,
   "id": "8a4595e7",
   "metadata": {},
   "outputs": [],
   "source": [
    "p1_debug_table.tables"
   ]
  },
  {
   "cell_type": "code",
   "execution_count": null,
   "id": "93071e7f",
   "metadata": {},
   "outputs": [],
   "source": [
    "import pandas as pd\n",
    "\n",
    "df = pd.DataFrame(p1_table[1:], columns=p1_table[0])\n",
    "\n",
    "df"
   ]
  },
  {
   "cell_type": "code",
   "execution_count": null,
   "id": "27308934",
   "metadata": {},
   "outputs": [],
   "source": [
    "pages[0].to_image()"
   ]
  },
  {
   "cell_type": "code",
   "execution_count": null,
   "id": "540d4b02",
   "metadata": {},
   "outputs": [],
   "source": [
    "pages[1].to_image()"
   ]
  }
 ],
 "metadata": {
  "kernelspec": {
   "display_name": "Python 3.9.9 ('openai')",
   "language": "python",
   "name": "python3"
  },
  "language_info": {
   "codemirror_mode": {
    "name": "ipython",
    "version": 3
   },
   "file_extension": ".py",
   "mimetype": "text/x-python",
   "name": "python",
   "nbconvert_exporter": "python",
   "pygments_lexer": "ipython3",
   "version": "3.9.6"
  },
  "vscode": {
   "interpreter": {
    "hash": "365536dcbde60510dc9073d6b991cd35db2d9bac356a11f5b64279a5e6708b97"
   }
  }
 },
 "nbformat": 4,
 "nbformat_minor": 5
}
