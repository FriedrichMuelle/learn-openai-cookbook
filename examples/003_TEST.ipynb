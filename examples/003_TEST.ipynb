{
 "cells": [
  {
   "cell_type": "markdown",
   "id": "983ef639-fbf4-4912-b593-9cf08aeb11cd",
   "metadata": {},
   "source": [
    "# 002 TEST\n",
    "\n",
    "## Embeddings BASIC"
   ]
  },
  {
   "cell_type": "code",
   "execution_count": 9,
   "id": "4fe46355",
   "metadata": {},
   "outputs": [
    {
     "name": "stdout",
     "output_type": "stream",
     "text": [
      "Defaulting to user installation because normal site-packages is not writeable\n",
      "Requirement already satisfied: ipympl in /Users/prigogine/Library/Python/3.9/lib/python/site-packages (0.9.4)\n",
      "Requirement already satisfied: numpy in /Users/prigogine/Library/Python/3.9/lib/python/site-packages (from ipympl) (1.26.4)\n",
      "Requirement already satisfied: ipywidgets<9,>=7.6.0 in /Users/prigogine/Library/Python/3.9/lib/python/site-packages (from ipympl) (8.1.2)\n",
      "Requirement already satisfied: ipython-genutils in /Users/prigogine/Library/Python/3.9/lib/python/site-packages (from ipympl) (0.2.0)\n",
      "Requirement already satisfied: traitlets<6 in /Users/prigogine/Library/Python/3.9/lib/python/site-packages (from ipympl) (5.14.3)\n",
      "Requirement already satisfied: pillow in /Users/prigogine/Library/Python/3.9/lib/python/site-packages (from ipympl) (10.3.0)\n",
      "Requirement already satisfied: ipython<9 in /Users/prigogine/Library/Python/3.9/lib/python/site-packages (from ipympl) (8.18.1)\n",
      "Requirement already satisfied: matplotlib<4,>=3.4.0 in /Users/prigogine/Library/Python/3.9/lib/python/site-packages (from ipympl) (3.8.4)\n",
      "Requirement already satisfied: prompt-toolkit<3.1.0,>=3.0.41 in /Users/prigogine/Library/Python/3.9/lib/python/site-packages (from ipython<9->ipympl) (3.0.43)\n",
      "Requirement already satisfied: matplotlib-inline in /Users/prigogine/Library/Python/3.9/lib/python/site-packages (from ipython<9->ipympl) (0.1.7)\n",
      "Requirement already satisfied: pexpect>4.3 in /Users/prigogine/Library/Python/3.9/lib/python/site-packages (from ipython<9->ipympl) (4.9.0)\n",
      "Requirement already satisfied: pygments>=2.4.0 in /Users/prigogine/Library/Python/3.9/lib/python/site-packages (from ipython<9->ipympl) (2.18.0)\n",
      "Requirement already satisfied: typing-extensions in /Users/prigogine/Library/Python/3.9/lib/python/site-packages (from ipython<9->ipympl) (4.11.0)\n",
      "Requirement already satisfied: jedi>=0.16 in /Users/prigogine/Library/Python/3.9/lib/python/site-packages (from ipython<9->ipympl) (0.19.1)\n",
      "Requirement already satisfied: exceptiongroup in /Users/prigogine/Library/Python/3.9/lib/python/site-packages (from ipython<9->ipympl) (1.2.1)\n",
      "Requirement already satisfied: stack-data in /Users/prigogine/Library/Python/3.9/lib/python/site-packages (from ipython<9->ipympl) (0.6.3)\n",
      "Requirement already satisfied: decorator in /Users/prigogine/Library/Python/3.9/lib/python/site-packages (from ipython<9->ipympl) (5.1.1)\n",
      "Requirement already satisfied: jupyterlab-widgets~=3.0.10 in /Users/prigogine/Library/Python/3.9/lib/python/site-packages (from ipywidgets<9,>=7.6.0->ipympl) (3.0.10)\n",
      "Requirement already satisfied: comm>=0.1.3 in /Users/prigogine/Library/Python/3.9/lib/python/site-packages (from ipywidgets<9,>=7.6.0->ipympl) (0.2.2)\n",
      "Requirement already satisfied: widgetsnbextension~=4.0.10 in /Users/prigogine/Library/Python/3.9/lib/python/site-packages (from ipywidgets<9,>=7.6.0->ipympl) (4.0.10)\n",
      "Requirement already satisfied: parso<0.9.0,>=0.8.3 in /Users/prigogine/Library/Python/3.9/lib/python/site-packages (from jedi>=0.16->ipython<9->ipympl) (0.8.4)\n",
      "Requirement already satisfied: kiwisolver>=1.3.1 in /Users/prigogine/Library/Python/3.9/lib/python/site-packages (from matplotlib<4,>=3.4.0->ipympl) (1.4.5)\n",
      "Requirement already satisfied: contourpy>=1.0.1 in /Users/prigogine/Library/Python/3.9/lib/python/site-packages (from matplotlib<4,>=3.4.0->ipympl) (1.2.1)\n",
      "Requirement already satisfied: python-dateutil>=2.7 in /Users/prigogine/Library/Python/3.9/lib/python/site-packages (from matplotlib<4,>=3.4.0->ipympl) (2.9.0.post0)\n",
      "Requirement already satisfied: fonttools>=4.22.0 in /Users/prigogine/Library/Python/3.9/lib/python/site-packages (from matplotlib<4,>=3.4.0->ipympl) (4.51.0)\n",
      "Requirement already satisfied: pyparsing>=2.3.1 in /Users/prigogine/Library/Python/3.9/lib/python/site-packages (from matplotlib<4,>=3.4.0->ipympl) (3.1.2)\n",
      "Requirement already satisfied: importlib-resources>=3.2.0 in /Users/prigogine/Library/Python/3.9/lib/python/site-packages (from matplotlib<4,>=3.4.0->ipympl) (6.4.0)\n",
      "Requirement already satisfied: packaging>=20.0 in /Users/prigogine/Library/Python/3.9/lib/python/site-packages (from matplotlib<4,>=3.4.0->ipympl) (24.0)\n",
      "Requirement already satisfied: cycler>=0.10 in /Users/prigogine/Library/Python/3.9/lib/python/site-packages (from matplotlib<4,>=3.4.0->ipympl) (0.12.1)\n",
      "Requirement already satisfied: zipp>=3.1.0 in /Users/prigogine/Library/Python/3.9/lib/python/site-packages (from importlib-resources>=3.2.0->matplotlib<4,>=3.4.0->ipympl) (3.18.1)\n",
      "Requirement already satisfied: ptyprocess>=0.5 in /Users/prigogine/Library/Python/3.9/lib/python/site-packages (from pexpect>4.3->ipython<9->ipympl) (0.7.0)\n",
      "Requirement already satisfied: wcwidth in /Users/prigogine/Library/Python/3.9/lib/python/site-packages (from prompt-toolkit<3.1.0,>=3.0.41->ipython<9->ipympl) (0.2.13)\n",
      "Requirement already satisfied: six>=1.5 in /Library/Developer/CommandLineTools/Library/Frameworks/Python3.framework/Versions/3.9/lib/python3.9/site-packages (from python-dateutil>=2.7->matplotlib<4,>=3.4.0->ipympl) (1.15.0)\n",
      "Requirement already satisfied: asttokens>=2.1.0 in /Users/prigogine/Library/Python/3.9/lib/python/site-packages (from stack-data->ipython<9->ipympl) (2.4.1)\n",
      "Requirement already satisfied: pure-eval in /Users/prigogine/Library/Python/3.9/lib/python/site-packages (from stack-data->ipython<9->ipympl) (0.2.2)\n",
      "Requirement already satisfied: executing>=1.2.0 in /Users/prigogine/Library/Python/3.9/lib/python/site-packages (from stack-data->ipython<9->ipympl) (2.0.1)\n",
      "\u001b[33mWARNING: You are using pip version 21.2.4; however, version 24.0 is available.\n",
      "You should consider upgrading via the '/Library/Developer/CommandLineTools/usr/bin/python3 -m pip install --upgrade pip' command.\u001b[0m\n",
      "Note: you may need to restart the kernel to use updated packages.\n"
     ]
    }
   ],
   "source": [
    "%pip install ipympl"
   ]
  },
  {
   "cell_type": "code",
   "execution_count": 10,
   "id": "92ff8398",
   "metadata": {},
   "outputs": [
    {
     "name": "stdout",
     "output_type": "stream",
     "text": [
      "Defaulting to user installation because normal site-packages is not writeable\n",
      "Requirement already satisfied: tiktoken in /Users/prigogine/Library/Python/3.9/lib/python/site-packages (0.7.0)\n",
      "Requirement already satisfied: openai in /Users/prigogine/Library/Python/3.9/lib/python/site-packages (1.29.0)\n",
      "Requirement already satisfied: pandas in /Users/prigogine/Library/Python/3.9/lib/python/site-packages (2.2.2)\n",
      "Requirement already satisfied: matplotlib in /Users/prigogine/Library/Python/3.9/lib/python/site-packages (3.8.4)\n",
      "Requirement already satisfied: plotly in /Users/prigogine/Library/Python/3.9/lib/python/site-packages (5.22.0)\n",
      "Requirement already satisfied: scikit-learn in /Users/prigogine/Library/Python/3.9/lib/python/site-packages (1.4.2)\n",
      "Requirement already satisfied: numpy in /Users/prigogine/Library/Python/3.9/lib/python/site-packages (1.26.4)\n",
      "Requirement already satisfied: python-dotenv in /Users/prigogine/Library/Python/3.9/lib/python/site-packages (1.0.1)\n",
      "\u001b[31mERROR: Could not find a version that satisfies the requirement widget (from versions: none)\u001b[0m\n",
      "\u001b[31mERROR: No matching distribution found for widget\u001b[0m\n",
      "\u001b[33mWARNING: You are using pip version 21.2.4; however, version 24.0 is available.\n",
      "You should consider upgrading via the '/Library/Developer/CommandLineTools/usr/bin/python3 -m pip install --upgrade pip' command.\u001b[0m\n",
      "Note: you may need to restart the kernel to use updated packages.\n"
     ]
    }
   ],
   "source": [
    "%pip install tiktoken openai pandas matplotlib plotly scikit-learn numpy python-dotenv matplotlib widget"
   ]
  },
  {
   "cell_type": "code",
   "execution_count": 11,
   "id": "b8e32fad",
   "metadata": {},
   "outputs": [],
   "source": [
    "from dotenv import load_dotenv\n",
    "import os\n",
    "\n",
    "load_dotenv()  \n",
    "\n",
    "\n",
    "import openai\n",
    "client = openai.OpenAI(api_key=os.getenv('OPENAI_API_KEY'))"
   ]
  },
  {
   "cell_type": "code",
   "execution_count": 12,
   "id": "dcc44b9e",
   "metadata": {},
   "outputs": [],
   "source": [
    "import pandas as pd\n",
    "import tiktoken\n",
    "\n",
    "from utils.embeddings_utils import get_embedding\n",
    "\n",
    "embedding_model = \"text-embedding-3-small\"\n",
    "embedding_encoding = \"cl100k_base\"\n",
    "max_tokens = 8000  # the maximum for text-embedding-3-small is 8191"
   ]
  },
  {
   "cell_type": "code",
   "execution_count": 13,
   "id": "a4cbfbf2",
   "metadata": {},
   "outputs": [
    {
     "data": {
      "text/html": [
       "<div>\n",
       "<style scoped>\n",
       "    .dataframe tbody tr th:only-of-type {\n",
       "        vertical-align: middle;\n",
       "    }\n",
       "\n",
       "    .dataframe tbody tr th {\n",
       "        vertical-align: top;\n",
       "    }\n",
       "\n",
       "    .dataframe thead th {\n",
       "        text-align: right;\n",
       "    }\n",
       "</style>\n",
       "<table border=\"1\" class=\"dataframe\">\n",
       "  <thead>\n",
       "    <tr style=\"text-align: right;\">\n",
       "      <th></th>\n",
       "      <th>Time</th>\n",
       "      <th>ProductId</th>\n",
       "      <th>UserId</th>\n",
       "      <th>Score</th>\n",
       "      <th>Summary</th>\n",
       "      <th>Text</th>\n",
       "      <th>combined</th>\n",
       "    </tr>\n",
       "  </thead>\n",
       "  <tbody>\n",
       "    <tr>\n",
       "      <th>0</th>\n",
       "      <td>1351123200</td>\n",
       "      <td>B003XPF9BO</td>\n",
       "      <td>A3R7JR3FMEBXQB</td>\n",
       "      <td>5</td>\n",
       "      <td>where does one  start...and stop... with a tre...</td>\n",
       "      <td>Wanted to save some to bring to my Chicago fam...</td>\n",
       "      <td>Title: where does one  start...and stop... wit...</td>\n",
       "    </tr>\n",
       "    <tr>\n",
       "      <th>1</th>\n",
       "      <td>1351123200</td>\n",
       "      <td>B003JK537S</td>\n",
       "      <td>A3JBPC3WFUT5ZP</td>\n",
       "      <td>1</td>\n",
       "      <td>Arrived in pieces</td>\n",
       "      <td>Not pleased at all. When I opened the box, mos...</td>\n",
       "      <td>Title: Arrived in pieces; Content: Not pleased...</td>\n",
       "    </tr>\n",
       "  </tbody>\n",
       "</table>\n",
       "</div>"
      ],
      "text/plain": [
       "         Time  ...                                           combined\n",
       "0  1351123200  ...  Title: where does one  start...and stop... wit...\n",
       "1  1351123200  ...  Title: Arrived in pieces; Content: Not pleased...\n",
       "\n",
       "[2 rows x 7 columns]"
      ]
     },
     "execution_count": 13,
     "metadata": {},
     "output_type": "execute_result"
    }
   ],
   "source": [
    "# load & inspect dataset\n",
    "input_datapath = \"data/fine_food_reviews_1k.csv\"  # to save space, we provide a pre-filtered dataset\n",
    "df = pd.read_csv(input_datapath, index_col=0)\n",
    "df = df[[\"Time\", \"ProductId\", \"UserId\", \"Score\", \"Summary\", \"Text\"]]\n",
    "df = df.dropna()\n",
    "df[\"combined\"] = (\n",
    "    \"Title: \" + df.Summary.str.strip() + \"; Content: \" + df.Text.str.strip()\n",
    ")\n",
    "df.head(2)"
   ]
  },
  {
   "cell_type": "code",
   "execution_count": 14,
   "id": "062ff58a",
   "metadata": {},
   "outputs": [
    {
     "data": {
      "text/plain": [
       "1000"
      ]
     },
     "execution_count": 14,
     "metadata": {},
     "output_type": "execute_result"
    }
   ],
   "source": [
    "# subsample to 1k most recent reviews and remove samples that are too long\n",
    "top_n = 1000\n",
    "df = df.sort_values(\"Time\").tail(top_n * 2)  # first cut to first 2k entries, assuming less than half will be filtered out\n",
    "df.drop(\"Time\", axis=1, inplace=True)\n",
    "\n",
    "encoding = tiktoken.get_encoding(embedding_encoding)\n",
    "\n",
    "# omit reviews that are too long to embed\n",
    "df[\"n_tokens\"] = df.combined.apply(lambda x: len(encoding.encode(x)))\n",
    "df = df[df.n_tokens <= max_tokens].tail(top_n)\n",
    "len(df)"
   ]
  },
  {
   "cell_type": "code",
   "execution_count": 15,
   "id": "32afa73b",
   "metadata": {},
   "outputs": [],
   "source": [
    "# Ensure you have your API key set in your environment per the README: https://github.com/openai/openai-python#usage\n",
    "\n",
    "# This may take a few minutes\n",
    "df[\"embedding\"] = df.combined.apply(lambda x: get_embedding(x, model=embedding_model))\n",
    "df.to_csv(\"data/fine_food_reviews_with_embeddings_1k_0515.csv\")"
   ]
  }
 ],
 "metadata": {
  "kernelspec": {
   "display_name": "Python 3.9.9 ('openai')",
   "language": "python",
   "name": "python3"
  },
  "language_info": {
   "codemirror_mode": {
    "name": "ipython",
    "version": 3
   },
   "file_extension": ".py",
   "mimetype": "text/x-python",
   "name": "python",
   "nbconvert_exporter": "python",
   "pygments_lexer": "ipython3",
   "version": "3.9.6"
  },
  "vscode": {
   "interpreter": {
    "hash": "365536dcbde60510dc9073d6b991cd35db2d9bac356a11f5b64279a5e6708b97"
   }
  }
 },
 "nbformat": 4,
 "nbformat_minor": 5
}
