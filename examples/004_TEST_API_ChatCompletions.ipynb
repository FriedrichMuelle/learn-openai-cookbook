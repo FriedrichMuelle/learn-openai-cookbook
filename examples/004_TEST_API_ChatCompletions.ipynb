{
 "cells": [
  {
   "cell_type": "markdown",
   "id": "983ef639-fbf4-4912-b593-9cf08aeb11cd",
   "metadata": {},
   "source": [
    "# 004 TEST"
   ]
  },
  {
   "cell_type": "markdown",
   "id": "77409be1",
   "metadata": {},
   "source": [
    "# Chat Completions API"
   ]
  },
  {
   "cell_type": "code",
   "execution_count": null,
   "id": "4fe46355",
   "metadata": {},
   "outputs": [],
   "source": [
    "%pip install ipympl"
   ]
  },
  {
   "cell_type": "code",
   "execution_count": null,
   "id": "92ff8398",
   "metadata": {},
   "outputs": [],
   "source": [
    "%pip install tiktoken openai pandas matplotlib plotly scikit-learn numpy python-dotenv matplotlib widget"
   ]
  },
  {
   "cell_type": "code",
   "execution_count": null,
   "id": "b8e32fad",
   "metadata": {},
   "outputs": [],
   "source": [
    "from dotenv import load_dotenv\n",
    "import os\n",
    "\n",
    "load_dotenv()  \n",
    "\n",
    "\n",
    "import openai\n",
    "client = openai.OpenAI(api_key=os.getenv('OPENAI_API_KEY'))"
   ]
  },
  {
   "cell_type": "code",
   "execution_count": null,
   "id": "a7d6cc09",
   "metadata": {},
   "outputs": [],
   "source": [
    "s_model = 'gpt-3.5-turbo-16k'\n",
    "\n",
    "# ------------------------ STEP 1 --------------------------\n",
    "\n",
    "input_messages = [\n",
    "    {\"role\": \"system\", \"content\": \"You are a helpful assistant.\"},\n",
    "    {\"role\": \"user\", \"content\": \"Hello!\"}\n",
    "  ]\n",
    "\n",
    "user_role = [message[\"role\"] for message in input_messages if message[\"role\"] == \"user\"]\n",
    "user_content = [message[\"content\"] for message in input_messages if message[\"role\"] == \"user\"]\n",
    "\n",
    "print(user_role[0])\n",
    "print(user_content[0])\n",
    "\n",
    "completion = client.chat.completions.create(\n",
    "  model=s_model,\n",
    "  messages=input_messages\n",
    ")\n",
    "\n",
    "print(completion.choices[0].message.role)\n",
    "print(completion.choices[0].message.content)\n",
    "\n",
    "# ------------------------ STEP 2 --------------------------\n",
    "\n",
    "input_messages = [\n",
    "    {\"role\": \"user\", \"content\": \"I will go to high school\"}\n",
    "  ]\n",
    "\n",
    "user_role = [message[\"role\"] for message in input_messages if message[\"role\"] == \"user\"]\n",
    "user_content = [message[\"content\"] for message in input_messages if message[\"role\"] == \"user\"]\n",
    "\n",
    "print(user_role[0])\n",
    "print(user_content[0])\n",
    "\n",
    "completion = client.chat.completions.create(\n",
    "  model=s_model,\n",
    "  messages=input_messages\n",
    ")\n",
    "\n",
    "print(completion.choices[0].message.role)\n",
    "print(completion.choices[0].message.content)\n",
    "\n",
    "# ------------------------ STEP 3 --------------------------\n",
    "input_messages = [\n",
    "    {\"role\": \"user\", \"content\": \"But I hate summer\"}\n",
    "  ]\n",
    "\n",
    "user_role = [message[\"role\"] for message in input_messages if message[\"role\"] == \"user\"]\n",
    "user_content = [message[\"content\"] for message in input_messages if message[\"role\"] == \"user\"]\n",
    "\n",
    "print(user_role[0])\n",
    "print(user_content[0])\n",
    "\n",
    "completion = client.chat.completions.create(\n",
    "  model=s_model,\n",
    "  messages=input_messages\n",
    ")\n",
    "\n",
    "print(completion.choices[0].message.role)\n",
    "print(completion.choices[0].message.content)\n"
   ]
  },
  {
   "cell_type": "code",
   "execution_count": null,
   "id": "d1c3ccbd",
   "metadata": {},
   "outputs": [],
   "source": [
    "s_model = 'gpt-4o'\n",
    "\n",
    "# ------------------------ STEP 1 --------------------------\n",
    "\n",
    "input_messages = [\n",
    "    {\"role\": \"system\", \"content\": \"You are a helpful assistant.\"},\n",
    "    {\"role\": \"user\", \"content\": \"Hello!\"}\n",
    "  ]\n",
    "\n",
    "user_role = [message[\"role\"] for message in input_messages if message[\"role\"] == \"user\"]\n",
    "user_content = [message[\"content\"] for message in input_messages if message[\"role\"] == \"user\"]\n",
    "\n",
    "print(user_role[0])\n",
    "print(user_content[0])\n",
    "\n",
    "completion = client.chat.completions.create(\n",
    "  model=s_model,\n",
    "  messages=input_messages\n",
    ")\n",
    "\n",
    "print(completion.choices[0].message.role)\n",
    "print(completion.choices[0].message.content)\n",
    "\n",
    "# ------------------------ STEP 2 --------------------------\n",
    "\n",
    "input_messages = [\n",
    "    {\"role\": \"user\", \"content\": \"I will go to high school\"}\n",
    "  ]\n",
    "\n",
    "user_role = [message[\"role\"] for message in input_messages if message[\"role\"] == \"user\"]\n",
    "user_content = [message[\"content\"] for message in input_messages if message[\"role\"] == \"user\"]\n",
    "\n",
    "print(user_role[0])\n",
    "print(user_content[0])\n",
    "\n",
    "completion = client.chat.completions.create(\n",
    "  model=s_model,\n",
    "  messages=input_messages\n",
    ")\n",
    "\n",
    "print(completion.choices[0].message.role)\n",
    "print(completion.choices[0].message.content)\n",
    "\n",
    "# ------------------------ STEP 3 --------------------------\n",
    "input_messages = [\n",
    "    {\"role\": \"user\", \"content\": \"But I hate summer\"}\n",
    "  ]\n",
    "\n",
    "user_role = [message[\"role\"] for message in input_messages if message[\"role\"] == \"user\"]\n",
    "user_content = [message[\"content\"] for message in input_messages if message[\"role\"] == \"user\"]\n",
    "\n",
    "print(user_role[0])\n",
    "print(user_content[0])\n",
    "\n",
    "completion = client.chat.completions.create(\n",
    "  model=s_model,\n",
    "  messages=input_messages\n",
    ")\n",
    "\n",
    "print(completion.choices[0].message.role)\n",
    "print(completion.choices[0].message.content)\n"
   ]
  },
  {
   "cell_type": "code",
   "execution_count": null,
   "id": "4524c33a",
   "metadata": {},
   "outputs": [],
   "source": [
    "s_model = 'gpt-4o'\n",
    "v_max_tokens = 50\n",
    "\n",
    "# ------------------------ STEP 2 --------------------------\n",
    "\n",
    "input_messages = [\n",
    "    {\"role\": \"user\", \"content\": \"I will go to high school\"}\n",
    "  ]\n",
    "\n",
    "user_role = [message[\"role\"] for message in input_messages if message[\"role\"] == \"user\"]\n",
    "user_content = [message[\"content\"] for message in input_messages if message[\"role\"] == \"user\"]\n",
    "\n",
    "print(\"ROLE: \",     user_role[0])\n",
    "print(\"CONTENT: \",  user_content[0])\n",
    "\n",
    "completion = client.chat.completions.create(\n",
    "  model=s_model,\n",
    "  messages=input_messages,\n",
    "  max_tokens=v_max_tokens,\n",
    ")\n",
    "\n",
    "print(\"ROLE: \",               completion.choices[0].message.role)\n",
    "print(\"CONTENT: \",            completion.choices[0].message.content)\n",
    "print(\"FINISH REASON: \",      completion.choices[0].finish_reason)\n",
    "\n",
    "print(\"-------------------------------------------------------------------\")\n",
    "print(\"model name: \",         completion.model)\n",
    "print(\"prompt_tokens: \",      completion.usage.prompt_tokens)\n",
    "print(\"completion_tokens: \",  completion.usage.completion_tokens)\n",
    "print(\"total_tokens: \",       completion.usage.total_tokens)\n",
    "\n"
   ]
  },
  {
   "cell_type": "code",
   "execution_count": null,
   "id": "d5ec7972",
   "metadata": {},
   "outputs": [],
   "source": [
    "response = client.models.list()\n",
    "\n",
    "print(\"Models length: \",len(response.data)) # get length of models.list()\n",
    "\n",
    "for item in response.data:\n",
    "    print(item.id)"
   ]
  },
  {
   "cell_type": "code",
   "execution_count": null,
   "id": "593de67d",
   "metadata": {},
   "outputs": [],
   "source": [
    "from datetime import datetime\n",
    "r_gpt4o = client.models.retrieve(\"gpt-4o\")\n",
    "\n",
    "print(\"gpt-4o: \",                   r_gpt4o)\n",
    "print(\"gpt-4o.id: \",                r_gpt4o.id)\n",
    "print(\"gpt-4o.created: (UTC)\",      datetime.utcfromtimestamp(r_gpt4o.created)    )\n",
    "\n",
    "r_models_list = client.models.list()\n",
    "print(\"models list: \",len(r_models_list.data))"
   ]
  },
  {
   "cell_type": "code",
   "execution_count": null,
   "id": "7fbcc046",
   "metadata": {},
   "outputs": [],
   "source": [
    "client.models.list().data\n",
    "\n",
    "client.models.retrieve(\"gpt-3.5-turbo\").id"
   ]
  },
  {
   "cell_type": "code",
   "execution_count": null,
   "id": "b88c912b",
   "metadata": {},
   "outputs": [],
   "source": [
    "models = client.models.list()\n",
    "\n",
    "for model in models.data:\n",
    "    print(model.id)\n"
   ]
  },
  {
   "cell_type": "code",
   "execution_count": null,
   "id": "3366d5f3",
   "metadata": {},
   "outputs": [],
   "source": [
    "model_ids = [model.id for model in models.data]\n",
    "\n",
    "print(model_ids)\n",
    "print(model_ids[10])\n",
    "print(model_ids[20])\n",
    "\n",
    "print(client.models.retrieve(\"gpt-3.5-turbo-instruct\"))"
   ]
  },
  {
   "cell_type": "code",
   "execution_count": null,
   "id": "f2a444db",
   "metadata": {},
   "outputs": [],
   "source": [
    "from openai import OpenAI\n",
    "client = OpenAI()\n",
    "\n",
    "completion = client.completions.create(\n",
    "  model=\"gpt-3.5-turbo-instruct\",\n",
    "  prompt=\"Here is Piran city.\",\n",
    "  max_tokens=50,\n",
    "  temperature=0\n",
    ")\n",
    "\n",
    "print(\"finish reason: \", completion.choices[0].finish_reason)\n",
    "print(\"Completion text: \",completion.choices[0].text)\n"
   ]
  }
 ],
 "metadata": {
  "kernelspec": {
   "display_name": "Python 3.9.9 ('openai')",
   "language": "python",
   "name": "python3"
  },
  "language_info": {
   "codemirror_mode": {
    "name": "ipython",
    "version": 3
   },
   "file_extension": ".py",
   "mimetype": "text/x-python",
   "name": "python",
   "nbconvert_exporter": "python",
   "pygments_lexer": "ipython3",
   "version": "3.9.6"
  },
  "vscode": {
   "interpreter": {
    "hash": "365536dcbde60510dc9073d6b991cd35db2d9bac356a11f5b64279a5e6708b97"
   }
  }
 },
 "nbformat": 4,
 "nbformat_minor": 5
}
