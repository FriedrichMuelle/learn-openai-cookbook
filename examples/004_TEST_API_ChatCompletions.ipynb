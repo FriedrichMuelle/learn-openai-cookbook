{
 "cells": [
  {
   "cell_type": "markdown",
   "id": "983ef639-fbf4-4912-b593-9cf08aeb11cd",
   "metadata": {},
   "source": [
    "# 004 TEST"
   ]
  },
  {
   "cell_type": "markdown",
   "id": "77409be1",
   "metadata": {},
   "source": [
    "# Chat Completions API"
   ]
  },
  {
   "cell_type": "code",
   "execution_count": null,
   "id": "4fe46355",
   "metadata": {},
   "outputs": [],
   "source": [
    "%pip install ipympl"
   ]
  },
  {
   "cell_type": "code",
   "execution_count": null,
   "id": "92ff8398",
   "metadata": {},
   "outputs": [],
   "source": [
    "%pip install tiktoken openai pandas matplotlib plotly scikit-learn numpy python-dotenv matplotlib widget"
   ]
  },
  {
   "cell_type": "code",
   "execution_count": 3,
   "id": "b8e32fad",
   "metadata": {},
   "outputs": [],
   "source": [
    "from dotenv import load_dotenv\n",
    "import os\n",
    "\n",
    "load_dotenv()  \n",
    "\n",
    "\n",
    "import openai\n",
    "client = openai.OpenAI(api_key=os.getenv('OPENAI_API_KEY'))"
   ]
  },
  {
   "cell_type": "code",
   "execution_count": 32,
   "id": "a7d6cc09",
   "metadata": {},
   "outputs": [
    {
     "name": "stdout",
     "output_type": "stream",
     "text": [
      "user\n",
      "Hello!\n",
      "assistant\n",
      "Hello! How can I assist you today?\n",
      "user\n",
      "I will go to high school\n",
      "assistant\n",
      "That's great! High school is an exciting new chapter in your educational journey. It's a time when you'll have the opportunity to explore various subjects, participate in extracurricular activities, and make new friends. It's important to make the most of your high school experience by staying focused on your studies, getting involved in activities that interest you, and building positive relationships with teachers and peers. Good luck, and enjoy this new phase of your life!\n",
      "user\n",
      "But I hate summer\n",
      "assistant\n",
      "I'm sorry to hear that you do not enjoy summer. It's normal to have preferences when it comes to seasons and weather. Some people prefer cooler temperatures or activities that are more common during other seasons. It's important to find things that you enjoy and make the most out of any season, even if it's not your favorite.\n"
     ]
    }
   ],
   "source": [
    "# ------------------------ STEP 1 --------------------------\n",
    "\n",
    "input_messages = [\n",
    "    {\"role\": \"system\", \"content\": \"You are a helpful assistant.\"},\n",
    "    {\"role\": \"user\", \"content\": \"Hello!\"}\n",
    "  ]\n",
    "\n",
    "user_role = [message[\"role\"] for message in input_messages if message[\"role\"] == \"user\"]\n",
    "user_content = [message[\"content\"] for message in input_messages if message[\"role\"] == \"user\"]\n",
    "\n",
    "print(user_role[0])\n",
    "print(user_content[0])\n",
    "\n",
    "completion = client.chat.completions.create(\n",
    "  model=\"gpt-3.5-turbo-16k\",\n",
    "  messages=input_messages\n",
    ")\n",
    "\n",
    "print(completion.choices[0].message.role)\n",
    "print(completion.choices[0].message.content)\n",
    "\n",
    "# ------------------------ STEP 2 --------------------------\n",
    "\n",
    "input_messages = [\n",
    "    {\"role\": \"user\", \"content\": \"I will go to high school\"}\n",
    "  ]\n",
    "\n",
    "user_role = [message[\"role\"] for message in input_messages if message[\"role\"] == \"user\"]\n",
    "user_content = [message[\"content\"] for message in input_messages if message[\"role\"] == \"user\"]\n",
    "\n",
    "print(user_role[0])\n",
    "print(user_content[0])\n",
    "\n",
    "completion = client.chat.completions.create(\n",
    "  model=\"gpt-3.5-turbo-16k\",\n",
    "  messages=input_messages\n",
    ")\n",
    "\n",
    "print(completion.choices[0].message.role)\n",
    "print(completion.choices[0].message.content)\n",
    "\n",
    "# ------------------------ STEP 3 --------------------------\n",
    "input_messages = [\n",
    "    {\"role\": \"user\", \"content\": \"But I hate summer\"}\n",
    "  ]\n",
    "\n",
    "user_role = [message[\"role\"] for message in input_messages if message[\"role\"] == \"user\"]\n",
    "user_content = [message[\"content\"] for message in input_messages if message[\"role\"] == \"user\"]\n",
    "\n",
    "print(user_role[0])\n",
    "print(user_content[0])\n",
    "\n",
    "completion = client.chat.completions.create(\n",
    "  model=\"gpt-3.5-turbo-16k\",\n",
    "  messages=input_messages\n",
    ")\n",
    "\n",
    "print(completion.choices[0].message.role)\n",
    "print(completion.choices[0].message.content)\n"
   ]
  }
 ],
 "metadata": {
  "kernelspec": {
   "display_name": "Python 3.9.9 ('openai')",
   "language": "python",
   "name": "python3"
  },
  "language_info": {
   "codemirror_mode": {
    "name": "ipython",
    "version": 3
   },
   "file_extension": ".py",
   "mimetype": "text/x-python",
   "name": "python",
   "nbconvert_exporter": "python",
   "pygments_lexer": "ipython3",
   "version": "3.9.6"
  },
  "vscode": {
   "interpreter": {
    "hash": "365536dcbde60510dc9073d6b991cd35db2d9bac356a11f5b64279a5e6708b97"
   }
  }
 },
 "nbformat": 4,
 "nbformat_minor": 5
}
