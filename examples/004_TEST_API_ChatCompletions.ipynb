{
 "cells": [
  {
   "cell_type": "markdown",
   "id": "983ef639-fbf4-4912-b593-9cf08aeb11cd",
   "metadata": {},
   "source": [
    "# 004 TEST"
   ]
  },
  {
   "cell_type": "markdown",
   "id": "77409be1",
   "metadata": {},
   "source": [
    "# Chat Completions API"
   ]
  },
  {
   "cell_type": "code",
   "execution_count": null,
   "id": "4fe46355",
   "metadata": {},
   "outputs": [],
   "source": [
    "%pip install ipympl"
   ]
  },
  {
   "cell_type": "code",
   "execution_count": null,
   "id": "92ff8398",
   "metadata": {},
   "outputs": [],
   "source": [
    "%pip install tiktoken openai pandas matplotlib plotly scikit-learn numpy python-dotenv matplotlib widget"
   ]
  },
  {
   "cell_type": "code",
   "execution_count": 3,
   "id": "b8e32fad",
   "metadata": {},
   "outputs": [],
   "source": [
    "from dotenv import load_dotenv\n",
    "import os\n",
    "\n",
    "load_dotenv()  \n",
    "\n",
    "\n",
    "import openai\n",
    "client = openai.OpenAI(api_key=os.getenv('OPENAI_API_KEY'))"
   ]
  },
  {
   "cell_type": "code",
   "execution_count": 31,
   "id": "a7d6cc09",
   "metadata": {},
   "outputs": [
    {
     "name": "stdout",
     "output_type": "stream",
     "text": [
      "user\n",
      "Hello!\n",
      "assistant\n",
      "Hello! How can I assist you today?\n",
      "user\n",
      "I will go to high school\n",
      "assistant\n",
      "That's great! Going to high school is an exciting new chapter in your academic journey. It's a place where you'll have the opportunity to learn new things, make new friends, and explore different interests. High school can also be challenging, so it's essential to stay focused, study hard, and make the most of the opportunities available to you. Wishing you all the best in your high school experience!\n",
      "user\n",
      "But I hate summer\n",
      "assistant\n",
      "Summer can be a challenging season for some people, and it's valid to have negative feelings towards it. Here are a few reasons why some people might dislike summer:\n",
      "\n",
      "1. Hot weather: High temperatures can be uncomfortable and make it difficult to engage in outdoor activities or enjoy being outside.\n",
      "\n",
      "2. Insects and allergies: Summer brings out bugs like mosquitoes, bees, and wasps, which can be irritating for those with allergies or a fear of these creatures.\n",
      "\n",
      "3. Busy and crowded: Summer tends to be a popular time for vacations, events, and activities, leading to crowded places and long lines, which can be overwhelming for some individuals.\n",
      "\n",
      "4. Lack of routine: For some individuals, the lack of structure during summer can be challenging, especially for those who thrive on routines or struggle with change.\n",
      "\n",
      "5. Body image pressure: The expectation of having a \"beach-ready\" body can create anxiety and stress for many people, leading them to feel self-conscious or avoid participating in summer activities.\n",
      "\n",
      "It's important to acknowledge and validate your feelings towards summer, as everyone has different preferences and experiences. If you find it difficult to cope with the season, consider finding alternative ways to enjoy the summer months that suit your interests and comfort levels.\n"
     ]
    }
   ],
   "source": [
    "# ------------------------ STEP 1 --------------------------\n",
    "\n",
    "input_messages = [\n",
    "    {\"role\": \"system\", \"content\": \"You are a helpful assistant.\"},\n",
    "    {\"role\": \"user\", \"content\": \"Hello!\"}\n",
    "  ]\n",
    "\n",
    "user_role = [message[\"role\"] for message in input_messages if message[\"role\"] == \"user\"]\n",
    "user_content = [message[\"content\"] for message in input_messages if message[\"role\"] == \"user\"]\n",
    "\n",
    "print(user_role[0])\n",
    "print(user_content[0])\n",
    "\n",
    "completion = client.chat.completions.create(\n",
    "  model=\"gpt-3.5-turbo-16k\",\n",
    "  messages=input_messages\n",
    ")\n",
    "\n",
    "print(completion.choices[0].message.role)\n",
    "print(completion.choices[0].message.content)\n",
    "\n",
    "# ------------------------ STEP 2 --------------------------\n",
    "\n",
    "input_messages = [\n",
    "    {\"role\": \"user\", \"content\": \"I will go to high school\"}\n",
    "  ]\n",
    "\n",
    "user_role = [message[\"role\"] for message in input_messages if message[\"role\"] == \"user\"]\n",
    "user_content = [message[\"content\"] for message in input_messages if message[\"role\"] == \"user\"]\n",
    "\n",
    "print(user_role[0])\n",
    "print(user_content[0])\n",
    "\n",
    "completion = client.chat.completions.create(\n",
    "  model=\"gpt-3.5-turbo-16k\",\n",
    "  messages=input_messages\n",
    ")\n",
    "\n",
    "print(completion.choices[0].message.role)\n",
    "print(completion.choices[0].message.content)\n",
    "\n",
    "# ------------------------ STEP 3 --------------------------\n",
    "input_messages = [\n",
    "    {\"role\": \"user\", \"content\": \"But I hate summer\"}\n",
    "  ]\n",
    "\n",
    "user_role = [message[\"role\"] for message in input_messages if message[\"role\"] == \"user\"]\n",
    "user_content = [message[\"content\"] for message in input_messages if message[\"role\"] == \"user\"]\n",
    "\n",
    "print(user_role[0])\n",
    "print(user_content[0])\n",
    "\n",
    "completion = client.chat.completions.create(\n",
    "  model=\"gpt-3.5-turbo-16k\",\n",
    "  messages=input_messages\n",
    ")\n",
    "\n",
    "print(completion.choices[0].message.role)\n",
    "print(completion.choices[0].message.content)\n"
   ]
  }
 ],
 "metadata": {
  "kernelspec": {
   "display_name": "Python 3.9.9 ('openai')",
   "language": "python",
   "name": "python3"
  },
  "language_info": {
   "codemirror_mode": {
    "name": "ipython",
    "version": 3
   },
   "file_extension": ".py",
   "mimetype": "text/x-python",
   "name": "python",
   "nbconvert_exporter": "python",
   "pygments_lexer": "ipython3",
   "version": "3.9.6"
  },
  "vscode": {
   "interpreter": {
    "hash": "365536dcbde60510dc9073d6b991cd35db2d9bac356a11f5b64279a5e6708b97"
   }
  }
 },
 "nbformat": 4,
 "nbformat_minor": 5
}
