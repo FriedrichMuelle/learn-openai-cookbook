{
 "cells": [
  {
   "cell_type": "markdown",
   "id": "983ef639-fbf4-4912-b593-9cf08aeb11cd",
   "metadata": {},
   "source": [
    "# 005 TEST"
   ]
  },
  {
   "cell_type": "markdown",
   "id": "77409be1",
   "metadata": {},
   "source": [
    "# Function Call"
   ]
  },
  {
   "cell_type": "code",
   "execution_count": 1,
   "id": "4fe46355",
   "metadata": {},
   "outputs": [
    {
     "name": "stdout",
     "output_type": "stream",
     "text": [
      "Defaulting to user installation because normal site-packages is not writeable\n",
      "Requirement already satisfied: ipympl in /Users/prigogine/Library/Python/3.9/lib/python/site-packages (0.9.4)\n",
      "Requirement already satisfied: pillow in /Users/prigogine/Library/Python/3.9/lib/python/site-packages (from ipympl) (10.3.0)\n",
      "Requirement already satisfied: ipython<9 in /Users/prigogine/Library/Python/3.9/lib/python/site-packages (from ipympl) (8.18.1)\n",
      "Requirement already satisfied: ipywidgets<9,>=7.6.0 in /Users/prigogine/Library/Python/3.9/lib/python/site-packages (from ipympl) (8.1.2)\n",
      "Requirement already satisfied: numpy in /Users/prigogine/Library/Python/3.9/lib/python/site-packages (from ipympl) (1.26.4)\n",
      "Requirement already satisfied: ipython-genutils in /Users/prigogine/Library/Python/3.9/lib/python/site-packages (from ipympl) (0.2.0)\n",
      "Requirement already satisfied: traitlets<6 in /Users/prigogine/Library/Python/3.9/lib/python/site-packages (from ipympl) (5.14.3)\n",
      "Requirement already satisfied: matplotlib<4,>=3.4.0 in /Users/prigogine/Library/Python/3.9/lib/python/site-packages (from ipympl) (3.8.4)\n",
      "Requirement already satisfied: pygments>=2.4.0 in /Users/prigogine/Library/Python/3.9/lib/python/site-packages (from ipython<9->ipympl) (2.18.0)\n",
      "Requirement already satisfied: exceptiongroup in /Users/prigogine/Library/Python/3.9/lib/python/site-packages (from ipython<9->ipympl) (1.2.1)\n",
      "Requirement already satisfied: matplotlib-inline in /Users/prigogine/Library/Python/3.9/lib/python/site-packages (from ipython<9->ipympl) (0.1.7)\n",
      "Requirement already satisfied: prompt-toolkit<3.1.0,>=3.0.41 in /Users/prigogine/Library/Python/3.9/lib/python/site-packages (from ipython<9->ipympl) (3.0.43)\n",
      "Requirement already satisfied: typing-extensions in /Users/prigogine/Library/Python/3.9/lib/python/site-packages (from ipython<9->ipympl) (4.11.0)\n",
      "Requirement already satisfied: pexpect>4.3 in /Users/prigogine/Library/Python/3.9/lib/python/site-packages (from ipython<9->ipympl) (4.9.0)\n",
      "Requirement already satisfied: jedi>=0.16 in /Users/prigogine/Library/Python/3.9/lib/python/site-packages (from ipython<9->ipympl) (0.19.1)\n",
      "Requirement already satisfied: stack-data in /Users/prigogine/Library/Python/3.9/lib/python/site-packages (from ipython<9->ipympl) (0.6.3)\n",
      "Requirement already satisfied: decorator in /Users/prigogine/Library/Python/3.9/lib/python/site-packages (from ipython<9->ipympl) (5.1.1)\n",
      "Requirement already satisfied: widgetsnbextension~=4.0.10 in /Users/prigogine/Library/Python/3.9/lib/python/site-packages (from ipywidgets<9,>=7.6.0->ipympl) (4.0.10)\n",
      "Requirement already satisfied: comm>=0.1.3 in /Users/prigogine/Library/Python/3.9/lib/python/site-packages (from ipywidgets<9,>=7.6.0->ipympl) (0.2.2)\n",
      "Requirement already satisfied: jupyterlab-widgets~=3.0.10 in /Users/prigogine/Library/Python/3.9/lib/python/site-packages (from ipywidgets<9,>=7.6.0->ipympl) (3.0.10)\n",
      "Requirement already satisfied: parso<0.9.0,>=0.8.3 in /Users/prigogine/Library/Python/3.9/lib/python/site-packages (from jedi>=0.16->ipython<9->ipympl) (0.8.4)\n",
      "Requirement already satisfied: contourpy>=1.0.1 in /Users/prigogine/Library/Python/3.9/lib/python/site-packages (from matplotlib<4,>=3.4.0->ipympl) (1.2.1)\n",
      "Requirement already satisfied: cycler>=0.10 in /Users/prigogine/Library/Python/3.9/lib/python/site-packages (from matplotlib<4,>=3.4.0->ipympl) (0.12.1)\n",
      "Requirement already satisfied: importlib-resources>=3.2.0 in /Users/prigogine/Library/Python/3.9/lib/python/site-packages (from matplotlib<4,>=3.4.0->ipympl) (6.4.0)\n",
      "Requirement already satisfied: fonttools>=4.22.0 in /Users/prigogine/Library/Python/3.9/lib/python/site-packages (from matplotlib<4,>=3.4.0->ipympl) (4.51.0)\n",
      "Requirement already satisfied: kiwisolver>=1.3.1 in /Users/prigogine/Library/Python/3.9/lib/python/site-packages (from matplotlib<4,>=3.4.0->ipympl) (1.4.5)\n",
      "Requirement already satisfied: pyparsing>=2.3.1 in /Users/prigogine/Library/Python/3.9/lib/python/site-packages (from matplotlib<4,>=3.4.0->ipympl) (3.1.2)\n",
      "Requirement already satisfied: packaging>=20.0 in /Users/prigogine/Library/Python/3.9/lib/python/site-packages (from matplotlib<4,>=3.4.0->ipympl) (24.0)\n",
      "Requirement already satisfied: python-dateutil>=2.7 in /Users/prigogine/Library/Python/3.9/lib/python/site-packages (from matplotlib<4,>=3.4.0->ipympl) (2.9.0.post0)\n",
      "Requirement already satisfied: zipp>=3.1.0 in /Users/prigogine/Library/Python/3.9/lib/python/site-packages (from importlib-resources>=3.2.0->matplotlib<4,>=3.4.0->ipympl) (3.18.1)\n",
      "Requirement already satisfied: ptyprocess>=0.5 in /Users/prigogine/Library/Python/3.9/lib/python/site-packages (from pexpect>4.3->ipython<9->ipympl) (0.7.0)\n",
      "Requirement already satisfied: wcwidth in /Users/prigogine/Library/Python/3.9/lib/python/site-packages (from prompt-toolkit<3.1.0,>=3.0.41->ipython<9->ipympl) (0.2.13)\n",
      "Requirement already satisfied: six>=1.5 in /Library/Developer/CommandLineTools/Library/Frameworks/Python3.framework/Versions/3.9/lib/python3.9/site-packages (from python-dateutil>=2.7->matplotlib<4,>=3.4.0->ipympl) (1.15.0)\n",
      "Requirement already satisfied: asttokens>=2.1.0 in /Users/prigogine/Library/Python/3.9/lib/python/site-packages (from stack-data->ipython<9->ipympl) (2.4.1)\n",
      "Requirement already satisfied: pure-eval in /Users/prigogine/Library/Python/3.9/lib/python/site-packages (from stack-data->ipython<9->ipympl) (0.2.2)\n",
      "Requirement already satisfied: executing>=1.2.0 in /Users/prigogine/Library/Python/3.9/lib/python/site-packages (from stack-data->ipython<9->ipympl) (2.0.1)\n",
      "\u001b[33mWARNING: You are using pip version 21.2.4; however, version 24.0 is available.\n",
      "You should consider upgrading via the '/Library/Developer/CommandLineTools/usr/bin/python3 -m pip install --upgrade pip' command.\u001b[0m\n",
      "Note: you may need to restart the kernel to use updated packages.\n"
     ]
    }
   ],
   "source": [
    "%pip install ipympl"
   ]
  },
  {
   "cell_type": "code",
   "execution_count": 2,
   "id": "92ff8398",
   "metadata": {},
   "outputs": [
    {
     "name": "stdout",
     "output_type": "stream",
     "text": [
      "Defaulting to user installation because normal site-packages is not writeable\n",
      "Requirement already satisfied: tiktoken in /Users/prigogine/Library/Python/3.9/lib/python/site-packages (0.7.0)\n",
      "Requirement already satisfied: openai in /Users/prigogine/Library/Python/3.9/lib/python/site-packages (1.29.0)\n",
      "Requirement already satisfied: pandas in /Users/prigogine/Library/Python/3.9/lib/python/site-packages (2.2.2)\n",
      "Requirement already satisfied: matplotlib in /Users/prigogine/Library/Python/3.9/lib/python/site-packages (3.8.4)\n",
      "Requirement already satisfied: plotly in /Users/prigogine/Library/Python/3.9/lib/python/site-packages (5.22.0)\n",
      "Requirement already satisfied: scikit-learn in /Users/prigogine/Library/Python/3.9/lib/python/site-packages (1.4.2)\n",
      "Requirement already satisfied: numpy in /Users/prigogine/Library/Python/3.9/lib/python/site-packages (1.26.4)\n",
      "Requirement already satisfied: python-dotenv in /Users/prigogine/Library/Python/3.9/lib/python/site-packages (1.0.1)\n",
      "\u001b[31mERROR: Could not find a version that satisfies the requirement widget (from versions: none)\u001b[0m\n",
      "\u001b[31mERROR: No matching distribution found for widget\u001b[0m\n",
      "\u001b[33mWARNING: You are using pip version 21.2.4; however, version 24.0 is available.\n",
      "You should consider upgrading via the '/Library/Developer/CommandLineTools/usr/bin/python3 -m pip install --upgrade pip' command.\u001b[0m\n",
      "Note: you may need to restart the kernel to use updated packages.\n"
     ]
    }
   ],
   "source": [
    "%pip install tiktoken openai pandas matplotlib plotly scikit-learn numpy python-dotenv matplotlib widget"
   ]
  },
  {
   "cell_type": "code",
   "execution_count": 3,
   "id": "b8e32fad",
   "metadata": {},
   "outputs": [],
   "source": [
    "from dotenv import load_dotenv\n",
    "import os\n",
    "\n",
    "load_dotenv()  \n",
    "\n",
    "\n",
    "import openai\n",
    "client = openai.OpenAI(api_key=os.getenv('OPENAI_API_KEY'))"
   ]
  },
  {
   "cell_type": "markdown",
   "id": "a08f6c1c",
   "metadata": {},
   "source": [
    "# Function Call"
   ]
  },
  {
   "cell_type": "code",
   "execution_count": 4,
   "id": "52e5c498",
   "metadata": {},
   "outputs": [
    {
     "name": "stdout",
     "output_type": "stream",
     "text": [
      "Defaulting to user installation because normal site-packages is not writeable\n",
      "Requirement already satisfied: scipy in /Users/prigogine/Library/Python/3.9/lib/python/site-packages (1.13.0)\n",
      "Requirement already satisfied: tenacity in /Users/prigogine/Library/Python/3.9/lib/python/site-packages (8.3.0)\n",
      "Requirement already satisfied: tiktoken in /Users/prigogine/Library/Python/3.9/lib/python/site-packages (0.7.0)\n",
      "Requirement already satisfied: termcolor in /Users/prigogine/Library/Python/3.9/lib/python/site-packages (2.4.0)\n",
      "Requirement already satisfied: openai in /Users/prigogine/Library/Python/3.9/lib/python/site-packages (1.29.0)\n",
      "Requirement already satisfied: requests in /Users/prigogine/Library/Python/3.9/lib/python/site-packages (2.31.0)\n",
      "Requirement already satisfied: numpy<2.3,>=1.22.4 in /Users/prigogine/Library/Python/3.9/lib/python/site-packages (from scipy) (1.26.4)\n",
      "Requirement already satisfied: regex>=2022.1.18 in /Users/prigogine/Library/Python/3.9/lib/python/site-packages (from tiktoken) (2024.5.10)\n",
      "Requirement already satisfied: typing-extensions<5,>=4.7 in /Users/prigogine/Library/Python/3.9/lib/python/site-packages (from openai) (4.11.0)\n",
      "Requirement already satisfied: sniffio in /Users/prigogine/Library/Python/3.9/lib/python/site-packages (from openai) (1.3.1)\n",
      "Requirement already satisfied: pydantic<3,>=1.9.0 in /Users/prigogine/Library/Python/3.9/lib/python/site-packages (from openai) (2.7.1)\n",
      "Requirement already satisfied: httpx<1,>=0.23.0 in /Users/prigogine/Library/Python/3.9/lib/python/site-packages (from openai) (0.27.0)\n",
      "Requirement already satisfied: tqdm>4 in /Users/prigogine/Library/Python/3.9/lib/python/site-packages (from openai) (4.66.4)\n",
      "Requirement already satisfied: anyio<5,>=3.5.0 in /Users/prigogine/Library/Python/3.9/lib/python/site-packages (from openai) (4.3.0)\n",
      "Requirement already satisfied: distro<2,>=1.7.0 in /Users/prigogine/Library/Python/3.9/lib/python/site-packages (from openai) (1.9.0)\n",
      "Requirement already satisfied: charset-normalizer<4,>=2 in /Users/prigogine/Library/Python/3.9/lib/python/site-packages (from requests) (3.3.2)\n",
      "Requirement already satisfied: certifi>=2017.4.17 in /Users/prigogine/Library/Python/3.9/lib/python/site-packages (from requests) (2024.2.2)\n",
      "Requirement already satisfied: urllib3<3,>=1.21.1 in /Users/prigogine/Library/Python/3.9/lib/python/site-packages (from requests) (2.2.1)\n",
      "Requirement already satisfied: idna<4,>=2.5 in /Users/prigogine/Library/Python/3.9/lib/python/site-packages (from requests) (3.7)\n",
      "Requirement already satisfied: exceptiongroup>=1.0.2 in /Users/prigogine/Library/Python/3.9/lib/python/site-packages (from anyio<5,>=3.5.0->openai) (1.2.1)\n",
      "Requirement already satisfied: httpcore==1.* in /Users/prigogine/Library/Python/3.9/lib/python/site-packages (from httpx<1,>=0.23.0->openai) (1.0.5)\n",
      "Requirement already satisfied: h11<0.15,>=0.13 in /Users/prigogine/Library/Python/3.9/lib/python/site-packages (from httpcore==1.*->httpx<1,>=0.23.0->openai) (0.14.0)\n",
      "Requirement already satisfied: pydantic-core==2.18.2 in /Users/prigogine/Library/Python/3.9/lib/python/site-packages (from pydantic<3,>=1.9.0->openai) (2.18.2)\n",
      "Requirement already satisfied: annotated-types>=0.4.0 in /Users/prigogine/Library/Python/3.9/lib/python/site-packages (from pydantic<3,>=1.9.0->openai) (0.6.0)\n",
      "\u001b[33mWARNING: You are using pip version 21.2.4; however, version 24.0 is available.\n",
      "You should consider upgrading via the '/Library/Developer/CommandLineTools/usr/bin/python3 -m pip install --upgrade pip' command.\u001b[0m\n",
      "Note: you may need to restart the kernel to use updated packages.\n"
     ]
    }
   ],
   "source": [
    "%pip install scipy tenacity tiktoken termcolor openai requests"
   ]
  },
  {
   "cell_type": "code",
   "execution_count": 5,
   "id": "f1ddb517",
   "metadata": {},
   "outputs": [
    {
     "name": "stderr",
     "output_type": "stream",
     "text": [
      "/Users/prigogine/Library/Python/3.9/lib/python/site-packages/urllib3/__init__.py:35: NotOpenSSLWarning: urllib3 v2 only supports OpenSSL 1.1.1+, currently the 'ssl' module is compiled with 'LibreSSL 2.8.3'. See: https://github.com/urllib3/urllib3/issues/3020\n",
      "  warnings.warn(\n"
     ]
    }
   ],
   "source": [
    "import json\n",
    "import requests\n",
    "import os\n",
    "from tenacity import retry, wait_random_exponential, stop_after_attempt\n",
    "from termcolor import colored\n",
    "\n",
    "GPT_MODEL = \"gpt-3.5-turbo\""
   ]
  },
  {
   "cell_type": "code",
   "execution_count": 6,
   "id": "72ce7906",
   "metadata": {},
   "outputs": [],
   "source": [
    "@retry(wait=wait_random_exponential(multiplier=1, max=40), stop=stop_after_attempt(3))\n",
    "def chat_completion_request(messages, functions=None, function_call=None, model=GPT_MODEL):\n",
    "    headers = {\n",
    "        \"Content-Type\": \"application/json\",\n",
    "        \"Authorization\": \"Bearer \" + os.getenv(\"OPENAI_API_KEY\"),\n",
    "    }\n",
    "\n",
    "    json_data = {\"model\": model, \"messages\": messages}\n",
    "\n",
    "    if functions is not None:\n",
    "        json_data.update({\"functions\": functions})\n",
    "\n",
    "    if function_call is not None:\n",
    "        json_data.update({\"function_call\": function_call})\n",
    "\n",
    "    try:\n",
    "        response = requests.post(\n",
    "            \"https://api.openai.com/v1/chat/completions\",\n",
    "            headers=headers,\n",
    "            json=json_data,\n",
    "        )\n",
    "        return response\n",
    "\n",
    "    except Exception as e:\n",
    "        print(\"Unable to generate ChatCompletion response\")\n",
    "        print(f\"Exception: {e}\")\n",
    "        return e\n"
   ]
  },
  {
   "cell_type": "code",
   "execution_count": 7,
   "id": "99948dae",
   "metadata": {},
   "outputs": [],
   "source": [
    "def pretty_print_conversation(messages):\n",
    "    role_to_color = {\n",
    "        \"system\": \"red\",\n",
    "        \"user\": \"green\",\n",
    "        \"assistant\": \"blue\",\n",
    "        \"function\": \"magenta\",\n",
    "    }\n",
    "\n",
    "    for message in messages:\n",
    "        if message[\"role\"] == \"system\":\n",
    "            print(colored(f\"system: {message['content']}\\n\", role_to_color[message[\"role\"]]))\n",
    "\n",
    "        elif message[\"role\"] == \"user\":\n",
    "            print(colored(f\"user: {message['content']}\\n\", role_to_color[message[\"role\"]]))\n",
    "\n",
    "        elif message[\"role\"] == \"assistant\" and message.get(\"function_call\"):\n",
    "            print(colored(f\"assistant[function_call]: {message['function_call']}\\n\", role_to_color[message[\"role\"]]))\n",
    "\n",
    "        elif message[\"role\"] == \"assistant\" and not message.get(\"function_call\"):\n",
    "            print(colored(f\"assistant[content]: {message['content']}\\n\", role_to_color[message[\"role\"]]))\n",
    "\n",
    "        elif message[\"role\"] == \"function\":\n",
    "            print(colored(f\"function ({message['name']}): {message['content']}\\n\", role_to_color[message[\"role\"]]))\n"
   ]
  },
  {
   "cell_type": "code",
   "execution_count": 8,
   "id": "28ddf92e",
   "metadata": {},
   "outputs": [],
   "source": [
    "functions = [\n",
    "    {\n",
    "        \"name\": \"get_current_weather\",  \n",
    "        \"description\": \"Get the current weather\",  \n",
    "        \"parameters\": {  \n",
    "            \"type\": \"object\",\n",
    "            \"properties\": {  \n",
    "                \"location\": {  \n",
    "                    \"type\": \"string\",  \n",
    "                    \"description\": \"The city and state, e.g. San Francisco, CA\",  \n",
    "                },\n",
    "                \"format\": {  \n",
    "                    \"type\": \"string\",  \n",
    "                    \"enum\": [\"celsius\", \"fahrenheit\"],  \n",
    "                    \"description\": \"The temperature unit to use. Infer this from the users location.\",  \n",
    "                },\n",
    "            },\n",
    "            \"required\": [\"location\", \"format\"],  \n",
    "        },\n",
    "    },\n",
    "    \n",
    "    {\n",
    "        \"name\": \"get_n_day_weather_forecast\",  \n",
    "        \"description\": \"Get an N-day weather forecast\",  \n",
    "        \"parameters\": {  \n",
    "            \"type\": \"object\",\n",
    "            \"properties\": {  \n",
    "                \"location\": {  \n",
    "                    \"type\": \"string\",  \n",
    "                    \"description\": \"The city and state, e.g. San Francisco, CA\",  \n",
    "                },\n",
    "                \"format\": {  \n",
    "                    \"type\": \"string\",  \n",
    "                    \"enum\": [\"celsius\", \"fahrenheit\"],  \n",
    "                    \"description\": \"The temperature unit to use. Infer this from the users location.\",  \n",
    "                },\n",
    "                \"num_days\": {  \n",
    "                    \"type\": \"integer\",  \n",
    "                    \"description\": \"The number of days to forecast\",  \n",
    "                }\n",
    "            },\n",
    "            \"required\": [\"location\", \"format\", \"num_days\"]  \n",
    "        },\n",
    "    },\n",
    "]\n"
   ]
  },
  {
   "cell_type": "code",
   "execution_count": 9,
   "id": "30f208fa",
   "metadata": {},
   "outputs": [
    {
     "name": "stdout",
     "output_type": "stream",
     "text": [
      "\u001b[31msystem: Don't make assumptions about what values to plug into functions. Ask for clarification if a user request is ambiguous.\n",
      "\u001b[0m\n",
      "\u001b[32muser: What's the weather like today\n",
      "\u001b[0m\n",
      "\u001b[34massistant[content]: Sure, may I know your current location so that I can provide you with the weather information?\n",
      "\u001b[0m\n"
     ]
    }
   ],
   "source": [
    "messages = []\n",
    "messages.append({\n",
    "    \"role\": \"system\",  \n",
    "    \"content\": \"Don't make assumptions about what values to plug into functions. Ask for clarification if a user request is ambiguous.\"  \n",
    "})\n",
    "\n",
    "messages.append({\n",
    "    \"role\": \"user\",  \n",
    "    \"content\": \"What's the weather like today\"  \n",
    "})\n",
    "\n",
    "chat_response = chat_completion_request(\n",
    "    messages, functions=functions\n",
    ")\n",
    "\n",
    "assistant_message = chat_response.json()[\"choices\"][0][\"message\"]\n",
    "messages.append(assistant_message)\n",
    "pretty_print_conversation(messages)"
   ]
  },
  {
   "cell_type": "code",
   "execution_count": 10,
   "id": "4b815dbc",
   "metadata": {},
   "outputs": [
    {
     "name": "stdout",
     "output_type": "stream",
     "text": [
      "\u001b[31msystem: Don't make assumptions about what values to plug into functions. Ask for clarification if a user request is ambiguous.\n",
      "\u001b[0m\n",
      "\u001b[32muser: What's the weather like today\n",
      "\u001b[0m\n",
      "\u001b[34massistant[content]: Sure, may I know your current location so that I can provide you with the weather information?\n",
      "\u001b[0m\n",
      "\u001b[32muser: I'm in Piran City.\n",
      "\u001b[0m\n",
      "\u001b[34massistant[function_call]: {'name': 'get_current_weather', 'arguments': '{\"location\":\"Piran City\",\"format\":\"celsius\"}'}\n",
      "\u001b[0m\n"
     ]
    }
   ],
   "source": [
    "messages.append({\n",
    "    \"role\": \"user\",  \n",
    "    \"content\": \"I'm in Piran City.\"  \n",
    "})\n",
    "\n",
    "chat_response = chat_completion_request(\n",
    "    messages, functions=functions\n",
    ")\n",
    "\n",
    "assistant_message = chat_response.json()[\"choices\"][0][\"message\"]\n",
    "messages.append(assistant_message)\n",
    "pretty_print_conversation(messages)"
   ]
  },
  {
   "cell_type": "code",
   "execution_count": 11,
   "id": "892a6998",
   "metadata": {},
   "outputs": [
    {
     "name": "stdout",
     "output_type": "stream",
     "text": [
      "\u001b[31msystem: Don't make assumptions about what values to plug into functions. Ask for clarification if a user request is ambiguous.\n",
      "\u001b[0m\n",
      "\u001b[32muser: what is the weather going to be like in Piran city over the next x days\n",
      "\u001b[0m\n",
      "\u001b[34massistant[content]: Sure, I can help you with that. How many days would you like to forecast the weather for in Piran city?\n",
      "\u001b[0m\n"
     ]
    }
   ],
   "source": [
    "messages = []\n",
    "messages.append({\n",
    "    \"role\": \"system\",  \n",
    "    \"content\": \"Don't make assumptions about what values to plug into functions. Ask for clarification if a user request is ambiguous.\"\n",
    "})\n",
    "\n",
    "messages.append({\n",
    "    \"role\": \"user\",  \n",
    "    \"content\": \"what is the weather going to be like in Piran city over the next x days\"\n",
    "})\n",
    "\n",
    "chat_response = chat_completion_request(\n",
    "    messages, functions=functions\n",
    ")\n",
    "\n",
    "assistant_message = chat_response.json()[\"choices\"][0][\"message\"]\n",
    "messages.append(assistant_message)\n",
    "\n",
    "pretty_print_conversation(messages)"
   ]
  },
  {
   "cell_type": "code",
   "execution_count": 12,
   "id": "4e8fe53b",
   "metadata": {},
   "outputs": [
    {
     "name": "stdout",
     "output_type": "stream",
     "text": [
      "\u001b[31msystem: Don't make assumptions about what values to plug into functions. Ask for clarification if a user request is ambiguous.\n",
      "\u001b[0m\n",
      "\u001b[32muser: what is the weather going to be like in Piran city over the next x days\n",
      "\u001b[0m\n",
      "\u001b[34massistant[content]: Sure, I can help you with that. How many days would you like to forecast the weather for in Piran city?\n",
      "\u001b[0m\n",
      "\u001b[32muser: 5 days\n",
      "\u001b[0m\n",
      "\u001b[34massistant[function_call]: {'name': 'get_n_day_weather_forecast', 'arguments': '{\"location\":\"Piran\",\"format\":\"celsius\",\"num_days\":5}'}\n",
      "\u001b[0m\n"
     ]
    }
   ],
   "source": [
    "messages.append({\n",
    "    \"role\": \"user\",  # 消息的角色是\"user\"\n",
    "    \"content\": \"5 days\"\n",
    "})\n",
    "\n",
    "chat_response = chat_completion_request(\n",
    "    messages, functions=functions\n",
    ")\n",
    "\n",
    "assistant_message = chat_response.json()[\"choices\"][0][\"message\"]\n",
    "messages.append(assistant_message)\n",
    "\n",
    "pretty_print_conversation(messages)"
   ]
  },
  {
   "cell_type": "code",
   "execution_count": 13,
   "id": "93eeb8eb",
   "metadata": {},
   "outputs": [
    {
     "name": "stdout",
     "output_type": "stream",
     "text": [
      "opened db successfully\n"
     ]
    }
   ],
   "source": [
    "import sqlite3\n",
    "conn = sqlite3.connect(\"data/chinook.db\")\n",
    "print(\"opened db successfully\")"
   ]
  },
  {
   "cell_type": "code",
   "execution_count": 14,
   "id": "9ec426b1",
   "metadata": {},
   "outputs": [],
   "source": [
    "def get_table_names(conn):\n",
    "    table_names = []  \n",
    "    tables = conn.execute(\"SELECT name FROM sqlite_master WHERE type='table';\")\n",
    "    for table in tables.fetchall():\n",
    "        table_names.append(table[0])\n",
    "    return table_names  \n",
    "\n",
    "\n",
    "def get_column_names(conn, table_name):\n",
    "    column_names = []  \n",
    "    columns = conn.execute(f\"PRAGMA table_info('{table_name}');\").fetchall()\n",
    "    for col in columns:\n",
    "        column_names.append(col[1])\n",
    "    return column_names  \n",
    "\n",
    "\n",
    "def get_database_info(conn):\n",
    "    table_dicts = []  \n",
    "    for table_name in get_table_names(conn):\n",
    "        columns_names = get_column_names(conn, table_name)  \n",
    "        table_dicts.append({\"table_name\": table_name, \"column_names\": columns_names})\n",
    "    return table_dicts  "
   ]
  },
  {
   "cell_type": "code",
   "execution_count": 15,
   "id": "fa0d5ee9",
   "metadata": {},
   "outputs": [],
   "source": [
    "database_schema_dict = get_database_info(conn)\n",
    "\n",
    "database_schema_string = \"\\n\".join(\n",
    "    [\n",
    "        f\"Table: {table['table_name']}\\nColumns: {', '.join(table['column_names'])}\"\n",
    "        for table in database_schema_dict\n",
    "    ]\n",
    ")"
   ]
  },
  {
   "cell_type": "code",
   "execution_count": 16,
   "id": "20ad9e81",
   "metadata": {},
   "outputs": [
    {
     "data": {
      "text/plain": [
       "[{'table_name': 'Album', 'column_names': ['AlbumId', 'Title', 'ArtistId']},\n",
       " {'table_name': 'Artist', 'column_names': ['ArtistId', 'Name']},\n",
       " {'table_name': 'Customer',\n",
       "  'column_names': ['CustomerId',\n",
       "   'FirstName',\n",
       "   'LastName',\n",
       "   'Company',\n",
       "   'Address',\n",
       "   'City',\n",
       "   'State',\n",
       "   'Country',\n",
       "   'PostalCode',\n",
       "   'Phone',\n",
       "   'Fax',\n",
       "   'Email',\n",
       "   'SupportRepId']},\n",
       " {'table_name': 'Employee',\n",
       "  'column_names': ['EmployeeId',\n",
       "   'LastName',\n",
       "   'FirstName',\n",
       "   'Title',\n",
       "   'ReportsTo',\n",
       "   'BirthDate',\n",
       "   'HireDate',\n",
       "   'Address',\n",
       "   'City',\n",
       "   'State',\n",
       "   'Country',\n",
       "   'PostalCode',\n",
       "   'Phone',\n",
       "   'Fax',\n",
       "   'Email']},\n",
       " {'table_name': 'Genre', 'column_names': ['GenreId', 'Name']},\n",
       " {'table_name': 'Invoice',\n",
       "  'column_names': ['InvoiceId',\n",
       "   'CustomerId',\n",
       "   'InvoiceDate',\n",
       "   'BillingAddress',\n",
       "   'BillingCity',\n",
       "   'BillingState',\n",
       "   'BillingCountry',\n",
       "   'BillingPostalCode',\n",
       "   'Total']},\n",
       " {'table_name': 'InvoiceLine',\n",
       "  'column_names': ['InvoiceLineId',\n",
       "   'InvoiceId',\n",
       "   'TrackId',\n",
       "   'UnitPrice',\n",
       "   'Quantity']},\n",
       " {'table_name': 'MediaType', 'column_names': ['MediaTypeId', 'Name']},\n",
       " {'table_name': 'Playlist', 'column_names': ['PlaylistId', 'Name']},\n",
       " {'table_name': 'PlaylistTrack', 'column_names': ['PlaylistId', 'TrackId']},\n",
       " {'table_name': 'Track',\n",
       "  'column_names': ['TrackId',\n",
       "   'Name',\n",
       "   'AlbumId',\n",
       "   'MediaTypeId',\n",
       "   'GenreId',\n",
       "   'Composer',\n",
       "   'Milliseconds',\n",
       "   'Bytes',\n",
       "   'UnitPrice']}]"
      ]
     },
     "execution_count": 16,
     "metadata": {},
     "output_type": "execute_result"
    }
   ],
   "source": [
    "database_schema_dict"
   ]
  },
  {
   "cell_type": "code",
   "execution_count": 17,
   "id": "30e63821",
   "metadata": {},
   "outputs": [],
   "source": [
    "functions = [\n",
    "    {\n",
    "        \"name\": \"ask_database\",\n",
    "        \"description\": \"Use this function to answer user questions about music. Output should be a fully formed SQL query.\",\n",
    "        \"parameters\": {\n",
    "            \"type\": \"object\",\n",
    "            \"properties\": {\n",
    "                \"query\": {\n",
    "                    \"type\": \"string\",\n",
    "                    \"description\": f\"\"\"\n",
    "                            SQL query extracting info to answer the user's question.\n",
    "                            SQL should be written using this database schema:\n",
    "                            {database_schema_string}\n",
    "                            The query should be returned in plain text, not in JSON.\n",
    "                            \"\"\",\n",
    "                }\n",
    "            },\n",
    "            \"required\": [\"query\"],\n",
    "        },\n",
    "    }\n",
    "]\n"
   ]
  },
  {
   "cell_type": "code",
   "execution_count": 18,
   "id": "e35b488c",
   "metadata": {},
   "outputs": [],
   "source": [
    "def ask_database(conn, query):\n",
    "    try:\n",
    "        results = str(conn.execute(query).fetchall())  \n",
    "    except Exception as e:  \n",
    "        results = f\"query failed with error: {e}\"\n",
    "    return results  \n",
    "\n",
    "def execute_function_call(message):    \n",
    "    if message[\"function_call\"][\"name\"] == \"ask_database\":\n",
    "        query = json.loads(message[\"function_call\"][\"arguments\"])[\"query\"]\n",
    "        results = ask_database(conn, query)\n",
    "    else:\n",
    "        results = f\"Error: function {message['function_call']['name']} does not exist\"\n",
    "    return results  "
   ]
  },
  {
   "cell_type": "code",
   "execution_count": 19,
   "id": "2a651c25",
   "metadata": {},
   "outputs": [],
   "source": [
    "\n",
    "messages = []\n",
    "messages.append({\"role\": \"system\", \"content\": \"Answer user questions by generating SQL queries against the Chinook Music Database.\"})\n",
    "# messages.append({\"role\": \"user\", \"content\": \"Hi, who are the top 5 artists by number of tracks?\"})\n",
    "# chat_response = chat_completion_request(messages, functions)\n",
    "\n",
    "# assistant_message = chat_response.json()[\"choices\"][0][\"message\"]\n",
    "# messages.append(assistant_message)\n",
    "\n",
    "# if assistant_message.get(\"function_call\"):\n",
    "#     results = execute_function_call(assistant_message)\n",
    "#     messages.append({\"role\": \"function\", \"name\": assistant_message[\"function_call\"][\"name\"], \"content\": results})\n",
    "\n",
    "# pretty_print_conversation(messages)"
   ]
  },
  {
   "cell_type": "code",
   "execution_count": 20,
   "id": "f47acb1e",
   "metadata": {},
   "outputs": [
    {
     "name": "stdout",
     "output_type": "stream",
     "text": [
      "\u001b[31msystem: Answer user questions by generating SQL queries against the Chinook Music Database.\n",
      "\u001b[0m\n",
      "\u001b[32muser: What is the name of the album with the most tracks?\n",
      "\u001b[0m\n",
      "\u001b[34massistant[function_call]: {'name': 'ask_database', 'arguments': '{\"query\":\"SELECT Album.Title, COUNT(Track.TrackId) AS TrackCount\\\\nFROM Album\\\\nJOIN Track ON Album.AlbumId = Track.AlbumId\\\\nGROUP BY Album.Title\\\\nORDER BY TrackCount DESC\\\\nLIMIT 1;\"}'}\n",
      "\u001b[0m\n",
      "\u001b[35mfunction (ask_database): [('Greatest Hits', 57)]\n",
      "\u001b[0m\n"
     ]
    }
   ],
   "source": [
    "messages.append({\"role\": \"user\", \"content\": \"What is the name of the album with the most tracks?\"})\n",
    "chat_response = chat_completion_request(messages, functions)\n",
    "assistant_message = chat_response.json()[\"choices\"][0][\"message\"]\n",
    "messages.append(assistant_message)\n",
    "\n",
    "if assistant_message.get(\"function_call\"):\n",
    "    results = execute_function_call(assistant_message)\n",
    "    messages.append({\"role\": \"function\", \"content\": results, \"name\": assistant_message[\"function_call\"][\"name\"]})\n",
    "\n",
    "pretty_print_conversation(messages)"
   ]
  }
 ],
 "metadata": {
  "kernelspec": {
   "display_name": "Python 3.9.9 ('openai')",
   "language": "python",
   "name": "python3"
  },
  "language_info": {
   "codemirror_mode": {
    "name": "ipython",
    "version": 3
   },
   "file_extension": ".py",
   "mimetype": "text/x-python",
   "name": "python",
   "nbconvert_exporter": "python",
   "pygments_lexer": "ipython3",
   "version": "3.9.6"
  },
  "vscode": {
   "interpreter": {
    "hash": "365536dcbde60510dc9073d6b991cd35db2d9bac356a11f5b64279a5e6708b97"
   }
  }
 },
 "nbformat": 4,
 "nbformat_minor": 5
}
